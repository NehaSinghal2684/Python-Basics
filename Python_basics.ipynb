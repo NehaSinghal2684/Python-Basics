{
  "nbformat": 4,
  "nbformat_minor": 0,
  "metadata": {
    "colab": {
      "provenance": []
    },
    "kernelspec": {
      "name": "python3",
      "display_name": "Python 3"
    },
    "language_info": {
      "name": "python"
    }
  },
  "cells": [
    {
      "cell_type": "markdown",
      "source": [
        "# **Theoretical Question :**"
      ],
      "metadata": {
        "id": "qVxE-AterkZb"
      }
    },
    {
      "cell_type": "markdown",
      "source": [
        "Q1. What is Python, and why is it popular ?   \n",
        "Ans: Python is an interpreted,object-oriented,high level,general-purpose computer programming language .\n",
        "It is used to build websites and softwares, automate tasks, and analyze data.    \n",
        "Python's simplicity ,versatility,and supportive community and powerful libraries make it one of the best programming languages .\n",
        "One of the biggest reasons Python has become so popular in recent years is its role in data science ,Internet of Things(IoT),Web scraping and machine learning.\n"
      ],
      "metadata": {
        "id": "NsHhiNFwsNTf"
      }
    },
    {
      "cell_type": "markdown",
      "source": [
        "Q2. What is an interpreter in Python ?  \n",
        "Ans: A python interpreter is a program that is written in C programming language known as \"CPython\" reads Python code and executes it line by line. when we write a Python scripts and run it,the interpreter reads the code,and translates it into machine readable bytecode and then executes the bytecode. This process happens in real time ,thats why we can see the results immediately. this process is called interpretation.\n",
        "\n",
        "\n",
        "\n",
        "\n"
      ],
      "metadata": {
        "id": "fjtuGGrJ0t6j"
      }
    },
    {
      "cell_type": "markdown",
      "source": [
        "Q3. What are pre-defined keywords in Python ?  \n",
        "Ans: Some predefined word in programming language is reserved for a special purpose,those words are called Keywords.Each keyword in python have a special meaning and a specific operation.These keywords can not be used as a variable.  \n",
        "python keywords lists is given below :  \n",
        "'False' , 'class' , 'from' , 'or' , 'None' , 'continue' , 'global' , 'pass' , 'True' , 'def' , 'if' , 'raise' , 'and' , 'del' , 'import' , 'return' , 'as' , 'elif' , 'in' , 'try' , 'assert' , 'else' , 'is' , 'while' , 'async' , 'except' , 'lambda' , 'with' , 'await' , 'finally' , 'nonlocal' , 'yield' , 'break' , 'for' , 'not'."
      ],
      "metadata": {
        "id": "kfG8jzvwCkoM"
      }
    },
    {
      "cell_type": "markdown",
      "source": [
        "Q4.Can keywords be used as variable names?  \n",
        "Ans: No, keywords cannot be used as variable names because they define the structure and syntax rules of programming language.  \n",
        "The interpreter uses keywords to recognize the structure of a program ."
      ],
      "metadata": {
        "id": "JEbDjyzRCOSk"
      }
    },
    {
      "cell_type": "markdown",
      "source": [
        "Q5.What is mutability in Python ?  \n",
        "Ans:In Python, mutability refers to the ability to change the value or state of an object after it has been created.Objects that can be changed are called mutable objects.Mutability helps to do frequent modification in python programming .  \n",
        "Examples of mutable objects in python are : 'lists' , 'dictionaries' , 'sets'."
      ],
      "metadata": {
        "id": "hDqW9GpoN110"
      }
    },
    {
      "cell_type": "markdown",
      "source": [
        "Q6. Why are lists mutable,but tuples are immutable ?  \n",
        "Ans: Tuples and Lists are the same in every way except two :  \n",
        "Tuples use parentheses instead of square brackets,and the items in tuples can not be modified after creation ,so that it is **immutable** .  \n",
        "whereas lists use square brackets,and the items in lists can be modified even after its creation, so that it is refer as **mutable**."
      ],
      "metadata": {
        "id": "TW2W0hP-hIqd"
      }
    },
    {
      "cell_type": "markdown",
      "source": [
        "Q7. What is the difference between \"==\" and \"is\" operators in Python?  \n",
        "Ans:In Python ,the main difference between the == and is operators is:  \n",
        "**'=='** The equality operator compares the values of two objects,focusing on the data they hold.It compares equality of objects.  \n",
        "**'is'** The identity operator checks if two variables point to the same object in memory. It compares the identity of objects.\n"
      ],
      "metadata": {
        "id": "foIppW3wtFXb"
      }
    },
    {
      "cell_type": "markdown",
      "source": [
        "Q8.What are logical operators in Python ?   \n",
        "Ans: Logical operators in python are symbols or keywords that combine and modify Boolean Values to produce a Boolean result.They are also known as boolean operator .The three logical operators in Python are : \"and\" , \"or\" and \"not\".In python,Logical operators are used on conditional statements (either True or False)."
      ],
      "metadata": {
        "id": "YoNdb5bhyQYm"
      }
    },
    {
      "cell_type": "markdown",
      "source": [
        "Q9. What is Type casting in Python ?  \n",
        "Ans:Type Casting in Python is the process of changing a variable's data type from one type to another.It is also known as type conversion.Type casting is important because it allows for flexible operations and data manipulation with in a program. It also ensures compatibility between different data types and makes python code more versatile."
      ],
      "metadata": {
        "id": "KLaL8Up1N0MB"
      }
    },
    {
      "cell_type": "markdown",
      "source": [
        "Q10. What is the difference between implicit and explicit type casting ?  \n",
        "Ans: There are two types of type casting in Python:  \n",
        "**Implicit type Casting** : in Implicit type casting ,Python automatically converts one data type to another without any explicit instruction from the programmer.User don't have to involve in this process.  \n",
        "**Explicit type casting** : In Explicit Type conversion,users convert the data type of an object to required data type.We use the built-in-function like int(),float(),str(),etc to perform this type casting."
      ],
      "metadata": {
        "id": "odc-Nz5ARlWJ"
      }
    },
    {
      "cell_type": "markdown",
      "source": [
        "Q11. What is the purpose of conditional statements in Python ?  \n",
        "Ans: The purpose of conditional statements in python is to control the flow of a program by making decisions based on certain conditions.  \n",
        "Some examples of conditional statements in python:  \n",
        "* **if** :Executes a blockcode if a condition is true.\n",
        "* **else**:Executes a different block of code if the if condition is false.\n",
        "* **elif**:Checks multiple conditions in sequence and executes different code blocks will be executed ."
      ],
      "metadata": {
        "id": "bOl9LFaBb8Ic"
      }
    },
    {
      "cell_type": "markdown",
      "source": [
        "Q12. How does the elif statement work in python ?  \n",
        "Ans: The \"elif\" keyword in python ,stands for \"else if\".In a program if the first condition is false ,it moves on to the next \"elif\" statement to check if that condition is true.There is no limit on the number of elif statements."
      ],
      "metadata": {
        "id": "AF2e0ahfTRre"
      }
    },
    {
      "cell_type": "markdown",
      "source": [
        "Q13. what is the difference between for and while loops?  \n",
        "Ans: A **\"for\" loop** is used when we know exactly how many times we want to iterate through a block of code (like looping through items in a list) .It often iterates through elements of a sequence like a list.Syntax typically includes initialization,condition and increment statements.  \n",
        "A **\"while\" loop** is used when we don't know how many times to loop until a specific condition is met. It requires,a condition that is checked before each iteration.\"while\" loop can potentially loop indefinitely if the condition never becomes false."
      ],
      "metadata": {
        "id": "upIUMeyottqH"
      }
    },
    {
      "cell_type": "markdown",
      "source": [
        "Q14.Describe a scenario where a while loop is more suitable than a for loop.  \n",
        "Ans:We prefer while loop when we need to continue looping until a specific condition is met.A 'while' loop is ideal for situations where the number of iterations is not predetermined and depends on some dyamic condition."
      ],
      "metadata": {
        "id": "nw0EhnoQOPxx"
      }
    },
    {
      "cell_type": "markdown",
      "source": [
        "# **Practical Questions :**"
      ],
      "metadata": {
        "id": "n9Z3jZ_MUOeJ"
      }
    },
    {
      "cell_type": "code",
      "source": [
        "# Q1. write a python program to print \"Hello, World!\"\n",
        "print(\"Hello, World!\")"
      ],
      "metadata": {
        "colab": {
          "base_uri": "https://localhost:8080/"
        },
        "id": "DPKKJaOeU7Eh",
        "outputId": "b77e4374-8c1c-44bd-bba4-d93601f5d855"
      },
      "execution_count": null,
      "outputs": [
        {
          "output_type": "stream",
          "name": "stdout",
          "text": [
            "Hello, World!\n"
          ]
        }
      ]
    },
    {
      "cell_type": "code",
      "source": [
        "#Q2. Write a python program that displays your name and age.\n",
        "name = input(\"Enter your name : \")\n",
        "age = int(input(\"Enter your age : \"))\n",
        "print(\"Name : \",name)\n",
        "print(\"Age : \",age)"
      ],
      "metadata": {
        "colab": {
          "base_uri": "https://localhost:8080/"
        },
        "id": "ZZuQA9UKW-oD",
        "outputId": "0bfb465e-2c82-4c0f-b512-c2fea3ced8c1"
      },
      "execution_count": null,
      "outputs": [
        {
          "output_type": "stream",
          "name": "stdout",
          "text": [
            "Enter your name : Neha Singhal\n",
            "Enter your age : 39\n",
            "Name :  Neha Singhal\n",
            "Age :  39\n"
          ]
        }
      ]
    },
    {
      "cell_type": "code",
      "source": [
        "# Q3 . Write code to print all the pre-defined keywords in python using the keywords library.\n",
        "import keyword\n",
        "print(\"The list of keywords are: \" )\n",
        "print(keyword.kwlist)"
      ],
      "metadata": {
        "colab": {
          "base_uri": "https://localhost:8080/"
        },
        "id": "zyPVgtDZbwvW",
        "outputId": "924bf546-047d-47c5-be93-7c6e00b80068"
      },
      "execution_count": null,
      "outputs": [
        {
          "output_type": "stream",
          "name": "stdout",
          "text": [
            "The list of keywords are: \n",
            "['False', 'None', 'True', 'and', 'as', 'assert', 'async', 'await', 'break', 'class', 'continue', 'def', 'del', 'elif', 'else', 'except', 'finally', 'for', 'from', 'global', 'if', 'import', 'in', 'is', 'lambda', 'nonlocal', 'not', 'or', 'pass', 'raise', 'return', 'try', 'while', 'with', 'yield']\n"
          ]
        }
      ]
    },
    {
      "cell_type": "code",
      "source": [
        "# Q4. Write a program that checks if a given word is a python keyword .\n",
        "import keyword\n",
        "Keyword= input(\"Enter a keyword want to be check: \")\n",
        "if keyword.iskeyword(Keyword):\n",
        "  print(Keyword,\"is a python keyword\")\n",
        "else:\n",
        "  print(Keyword,\"is not a python keyword\")"
      ],
      "metadata": {
        "colab": {
          "base_uri": "https://localhost:8080/"
        },
        "id": "uivSdli5huoI",
        "outputId": "bcb1cfd2-6d30-474a-bb8a-ce1633669cdb"
      },
      "execution_count": null,
      "outputs": [
        {
          "output_type": "stream",
          "name": "stdout",
          "text": [
            "Enter a keyword want to be check: class\n",
            "class is a python keyword\n"
          ]
        }
      ]
    },
    {
      "cell_type": "code",
      "source": [
        "#Q5. Create a list and tuple in python, and demonstrate how attempting to change on element works differently for each.\n",
        "list_num=[1,2,3,4,5,6]\n",
        "print(list_num)    # print the original List elements\n",
        "list_num[2]=10\n",
        "print(list_num)    # print the changed list elements\n",
        "tuple_num=(1,2,3,4,5,6)\n",
        "print(tuple_num)   # print the original tuple elements\n",
        "tuple_num[2]=10\n",
        "print(tuple_num)   #element change in tuple not possible , it will show error."
      ],
      "metadata": {
        "colab": {
          "base_uri": "https://localhost:8080/",
          "height": 255
        },
        "id": "oac90f5xmiDY",
        "outputId": "aa3479ee-67bc-447f-f37f-2b3ddb3f81bc"
      },
      "execution_count": null,
      "outputs": [
        {
          "output_type": "stream",
          "name": "stdout",
          "text": [
            "[1, 2, 3, 4, 5, 6]\n",
            "[1, 2, 10, 4, 5, 6]\n",
            "(1, 2, 3, 4, 5, 6)\n"
          ]
        },
        {
          "output_type": "error",
          "ename": "TypeError",
          "evalue": "'tuple' object does not support item assignment",
          "traceback": [
            "\u001b[0;31m---------------------------------------------------------------------------\u001b[0m",
            "\u001b[0;31mTypeError\u001b[0m                                 Traceback (most recent call last)",
            "\u001b[0;32m<ipython-input-32-b3c93f9721ae>\u001b[0m in \u001b[0;36m<cell line: 8>\u001b[0;34m()\u001b[0m\n\u001b[1;32m      6\u001b[0m \u001b[0mtuple_num\u001b[0m\u001b[0;34m=\u001b[0m\u001b[0;34m(\u001b[0m\u001b[0;36m1\u001b[0m\u001b[0;34m,\u001b[0m\u001b[0;36m2\u001b[0m\u001b[0;34m,\u001b[0m\u001b[0;36m3\u001b[0m\u001b[0;34m,\u001b[0m\u001b[0;36m4\u001b[0m\u001b[0;34m,\u001b[0m\u001b[0;36m5\u001b[0m\u001b[0;34m,\u001b[0m\u001b[0;36m6\u001b[0m\u001b[0;34m)\u001b[0m\u001b[0;34m\u001b[0m\u001b[0;34m\u001b[0m\u001b[0m\n\u001b[1;32m      7\u001b[0m \u001b[0mprint\u001b[0m\u001b[0;34m(\u001b[0m\u001b[0mtuple_num\u001b[0m\u001b[0;34m)\u001b[0m\u001b[0;34m\u001b[0m\u001b[0;34m\u001b[0m\u001b[0m\n\u001b[0;32m----> 8\u001b[0;31m \u001b[0mtuple_num\u001b[0m\u001b[0;34m[\u001b[0m\u001b[0;36m2\u001b[0m\u001b[0;34m]\u001b[0m\u001b[0;34m=\u001b[0m\u001b[0;36m10\u001b[0m\u001b[0;34m\u001b[0m\u001b[0;34m\u001b[0m\u001b[0m\n\u001b[0m\u001b[1;32m      9\u001b[0m \u001b[0mprint\u001b[0m\u001b[0;34m(\u001b[0m\u001b[0mtuple_num\u001b[0m\u001b[0;34m)\u001b[0m\u001b[0;34m\u001b[0m\u001b[0;34m\u001b[0m\u001b[0m\n",
            "\u001b[0;31mTypeError\u001b[0m: 'tuple' object does not support item assignment"
          ]
        }
      ]
    },
    {
      "cell_type": "code",
      "source": [
        "#Q6. Write a function to demonstrate the behavior of mutable and immutable arguments.\n",
        "\n",
        " # program to show dictionary is mutable\n",
        "my_dict={\"name\":\"Avi\",\"age\":\"5\"}\n",
        "print(my_dict)  # print the original dictionary\n",
        "new_dict=my_dict\n",
        "my_dict[\"name\"]=\"Avyukt\"\n",
        "print(my_dict)  # print the changed dictionary\n",
        "\n",
        " # program to show string is immutable\n",
        "a= \"Avi\"\n",
        "a[1] = 'n'\n",
        "print(a)        # print the changed string"
      ],
      "metadata": {
        "colab": {
          "base_uri": "https://localhost:8080/",
          "height": 237
        },
        "id": "P1J-H2fqnB6c",
        "outputId": "ed89b53b-5839-432c-c8b6-48dd66bcb802"
      },
      "execution_count": null,
      "outputs": [
        {
          "output_type": "stream",
          "name": "stdout",
          "text": [
            "{'name': 'Avi', 'age': '5'}\n",
            "{'name': 'Avyukt', 'age': '5'}\n"
          ]
        },
        {
          "output_type": "error",
          "ename": "TypeError",
          "evalue": "'str' object does not support item assignment",
          "traceback": [
            "\u001b[0;31m---------------------------------------------------------------------------\u001b[0m",
            "\u001b[0;31mTypeError\u001b[0m                                 Traceback (most recent call last)",
            "\u001b[0;32m<ipython-input-44-25b3bd0d56da>\u001b[0m in \u001b[0;36m<cell line: 12>\u001b[0;34m()\u001b[0m\n\u001b[1;32m     10\u001b[0m  \u001b[0;31m# program to show string is immutable\u001b[0m\u001b[0;34m\u001b[0m\u001b[0;34m\u001b[0m\u001b[0m\n\u001b[1;32m     11\u001b[0m \u001b[0ma\u001b[0m\u001b[0;34m=\u001b[0m \u001b[0;34m\"Avi\"\u001b[0m\u001b[0;34m\u001b[0m\u001b[0;34m\u001b[0m\u001b[0m\n\u001b[0;32m---> 12\u001b[0;31m \u001b[0ma\u001b[0m\u001b[0;34m[\u001b[0m\u001b[0;36m1\u001b[0m\u001b[0;34m]\u001b[0m \u001b[0;34m=\u001b[0m \u001b[0;34m'n'\u001b[0m\u001b[0;34m\u001b[0m\u001b[0;34m\u001b[0m\u001b[0m\n\u001b[0m\u001b[1;32m     13\u001b[0m \u001b[0mprint\u001b[0m\u001b[0;34m(\u001b[0m\u001b[0ma\u001b[0m\u001b[0;34m)\u001b[0m        \u001b[0;31m# print the changed string\u001b[0m\u001b[0;34m\u001b[0m\u001b[0;34m\u001b[0m\u001b[0m\n",
            "\u001b[0;31mTypeError\u001b[0m: 'str' object does not support item assignment"
          ]
        }
      ]
    },
    {
      "cell_type": "code",
      "source": [
        "#Q7.Write a function to demonstrate the behavior of mutable and immutable arguments.\n",
        "#program to show Lists are mutable .\n",
        "list_val = [1,2,3,4,5,6]\n",
        "print(list_val)\n",
        "list_val[2] = 10\n",
        "print(list_val)\n",
        "#program to show tuples are immutable .\n",
        "tuple_val = (1,2,3,4,5,6)\n",
        "tuple_val[2]= 8             # it shows error"
      ],
      "metadata": {
        "colab": {
          "base_uri": "https://localhost:8080/",
          "height": 219
        },
        "id": "wD2TPi8lnq6D",
        "outputId": "6d13f763-5789-4c9a-a772-aa8d3c3fbfc5"
      },
      "execution_count": null,
      "outputs": [
        {
          "output_type": "stream",
          "name": "stdout",
          "text": [
            "[1, 2, 3, 4, 5, 6]\n",
            "[1, 2, 10, 4, 5, 6]\n"
          ]
        },
        {
          "output_type": "error",
          "ename": "TypeError",
          "evalue": "'tuple' object does not support item assignment",
          "traceback": [
            "\u001b[0;31m---------------------------------------------------------------------------\u001b[0m",
            "\u001b[0;31mTypeError\u001b[0m                                 Traceback (most recent call last)",
            "\u001b[0;32m<ipython-input-43-f1a9f201eebe>\u001b[0m in \u001b[0;36m<cell line: 9>\u001b[0;34m()\u001b[0m\n\u001b[1;32m      7\u001b[0m \u001b[0;31m#program to show tuples are immutable .\u001b[0m\u001b[0;34m\u001b[0m\u001b[0;34m\u001b[0m\u001b[0m\n\u001b[1;32m      8\u001b[0m \u001b[0mtuple_val\u001b[0m \u001b[0;34m=\u001b[0m \u001b[0;34m(\u001b[0m\u001b[0;36m1\u001b[0m\u001b[0;34m,\u001b[0m\u001b[0;36m2\u001b[0m\u001b[0;34m,\u001b[0m\u001b[0;36m3\u001b[0m\u001b[0;34m,\u001b[0m\u001b[0;36m4\u001b[0m\u001b[0;34m,\u001b[0m\u001b[0;36m5\u001b[0m\u001b[0;34m,\u001b[0m\u001b[0;36m6\u001b[0m\u001b[0;34m)\u001b[0m\u001b[0;34m\u001b[0m\u001b[0;34m\u001b[0m\u001b[0m\n\u001b[0;32m----> 9\u001b[0;31m \u001b[0mtuple_val\u001b[0m\u001b[0;34m[\u001b[0m\u001b[0;36m2\u001b[0m\u001b[0;34m]\u001b[0m\u001b[0;34m=\u001b[0m \u001b[0;36m8\u001b[0m             \u001b[0;31m# it shows error\u001b[0m\u001b[0;34m\u001b[0m\u001b[0;34m\u001b[0m\u001b[0m\n\u001b[0m",
            "\u001b[0;31mTypeError\u001b[0m: 'tuple' object does not support item assignment"
          ]
        }
      ]
    },
    {
      "cell_type": "code",
      "source": [
        "#Q8. Write a program to demonstrate the use of logical operators.\n",
        "age=12\n",
        "sports=\"cricket\"\n",
        "age>10 and sports==\"cricket\"      # using operator \"and\""
      ],
      "metadata": {
        "colab": {
          "base_uri": "https://localhost:8080/"
        },
        "id": "k83ZWTJzoLGA",
        "outputId": "6d108aac-bb50-4822-a94e-eac3ce1d7c90"
      },
      "execution_count": null,
      "outputs": [
        {
          "output_type": "execute_result",
          "data": {
            "text/plain": [
              "True"
            ]
          },
          "metadata": {},
          "execution_count": 50
        }
      ]
    },
    {
      "cell_type": "code",
      "source": [
        "age=12\n",
        "sports=\"cricket\"\n",
        "age<10 or sports==\"basketball\"     # using operator \"or\""
      ],
      "metadata": {
        "colab": {
          "base_uri": "https://localhost:8080/"
        },
        "id": "P55EaWRvHER8",
        "outputId": "e17f2dda-4267-49da-fd92-ec9db883ae29"
      },
      "execution_count": null,
      "outputs": [
        {
          "output_type": "execute_result",
          "data": {
            "text/plain": [
              "False"
            ]
          },
          "metadata": {},
          "execution_count": 54
        }
      ]
    },
    {
      "cell_type": "code",
      "source": [
        "age=12\n",
        "sports=\"cricket\"\n",
        "not age>10                        # using operator \"not\""
      ],
      "metadata": {
        "colab": {
          "base_uri": "https://localhost:8080/"
        },
        "id": "eoTAcXuPHDvw",
        "outputId": "840b3d50-86ea-48fa-bff0-f882138dcb09"
      },
      "execution_count": null,
      "outputs": [
        {
          "output_type": "execute_result",
          "data": {
            "text/plain": [
              "False"
            ]
          },
          "metadata": {},
          "execution_count": 53
        }
      ]
    },
    {
      "cell_type": "code",
      "source": [
        "#Q9. Write a python program to convert user input from string to integer,float,and boolean types.\n",
        " # conversion of string to integer\n",
        "s=\"50\"\n",
        "print(s , type(s))\n",
        "num=int(s)        # The int()function takes the string s and convert it into an integer.\n",
        "print(num , type(num))\n"
      ],
      "metadata": {
        "colab": {
          "base_uri": "https://localhost:8080/"
        },
        "id": "DUeMaRZDoll0",
        "outputId": "6d9c39a9-97da-44d0-f03c-e9257b54dc9b"
      },
      "execution_count": null,
      "outputs": [
        {
          "output_type": "stream",
          "name": "stdout",
          "text": [
            "50 <class 'str'>\n",
            "50 <class 'int'>\n"
          ]
        }
      ]
    },
    {
      "cell_type": "code",
      "source": [
        "# conversion of string to float\n",
        "s=\"50\"\n",
        "print(s , type(s))\n",
        "float=float(s)      # The float()function takes the string s and convert it into an float.\n",
        "print(float , type(float))\n"
      ],
      "metadata": {
        "colab": {
          "base_uri": "https://localhost:8080/"
        },
        "id": "Iq2o0t5uK5rY",
        "outputId": "3e8fb232-4b7b-43e0-cc83-34cc4bd37cd3"
      },
      "execution_count": null,
      "outputs": [
        {
          "output_type": "stream",
          "name": "stdout",
          "text": [
            "50 <class 'str'>\n",
            "50.0 <class 'float'>\n"
          ]
        }
      ]
    },
    {
      "cell_type": "code",
      "source": [
        "# conversion of string to boolean type\n",
        "s=\"50\"\n",
        "print(s , type(s))\n",
        "bool=bool(s)       # The bool()function takes the string s and convert it into an boolean.\n",
        "print(bool , type(bool))"
      ],
      "metadata": {
        "colab": {
          "base_uri": "https://localhost:8080/"
        },
        "id": "4sRbGBk3K5Es",
        "outputId": "e8789ce9-9793-4c0c-fbf5-8a36f3f3b212"
      },
      "execution_count": null,
      "outputs": [
        {
          "output_type": "stream",
          "name": "stdout",
          "text": [
            "50 <class 'str'>\n",
            "True <class 'bool'>\n"
          ]
        }
      ]
    },
    {
      "cell_type": "code",
      "source": [
        "#Q10. Write code to demonstrate type casting with list elements.\n",
        "list_val=[1,'one',2,'two',3,'three']\n",
        "print(list_val , type(list_val))\n",
        "list_val[4]= 4\n",
        "list_val[5]= 'four'\n",
        "print(list_val , type(list_val))"
      ],
      "metadata": {
        "id": "3b_MqEAHpB8f",
        "colab": {
          "base_uri": "https://localhost:8080/"
        },
        "outputId": "27fd6d26-0b76-41f2-abf1-d6f65d88ec7e"
      },
      "execution_count": 2,
      "outputs": [
        {
          "output_type": "stream",
          "name": "stdout",
          "text": [
            "[1, 'one', 2, 'two', 3, 'three'] <class 'list'>\n",
            "[1, 'one', 2, 'two', 4, 'four'] <class 'list'>\n"
          ]
        }
      ]
    },
    {
      "cell_type": "code",
      "source": [
        "#Q11. Write a programe that checks if a number is positive ,negative or zero.\n",
        "num=int(input(\"Enter a number : \"))\n",
        "if num>0:\n",
        "  print(num,\"is a positive number\")\n",
        "elif num<0:\n",
        "  print(num,\"is a negative number\")\n",
        "else:\n",
        "  print(num,\"is zero\")"
      ],
      "metadata": {
        "id": "pEc-nqNfpZde",
        "colab": {
          "base_uri": "https://localhost:8080/"
        },
        "outputId": "ca6f17e5-80f5-4830-bef3-62f6b1863516"
      },
      "execution_count": 3,
      "outputs": [
        {
          "output_type": "stream",
          "name": "stdout",
          "text": [
            "Enter a number : -7\n",
            "-7 is a negative number\n"
          ]
        }
      ]
    },
    {
      "cell_type": "code",
      "source": [
        "#Q12. Write a for loop to print numbers from 1 to 10.\n",
        "for i in range(1,11):\n",
        "  print(i , end=\"  \")"
      ],
      "metadata": {
        "colab": {
          "base_uri": "https://localhost:8080/"
        },
        "id": "NCGJRVNpppFJ",
        "outputId": "cfa8154e-a830-494e-d4dd-f601543c537f"
      },
      "execution_count": null,
      "outputs": [
        {
          "output_type": "stream",
          "name": "stdout",
          "text": [
            "1  2  3  4  5  6  7  8  9  10  "
          ]
        }
      ]
    },
    {
      "cell_type": "code",
      "source": [
        "#Q13. Write a python program to find the sum of all even numbers between 1 to 50.\n",
        "sum=0\n",
        "for i in range(1,51):\n",
        "  if i%2==0:\n",
        "    sum=sum+i\n",
        "print(\"The sum of all even numbers between 1 to 50 is : \",sum)\n"
      ],
      "metadata": {
        "id": "qN28gIiAp3Gh",
        "colab": {
          "base_uri": "https://localhost:8080/"
        },
        "outputId": "12ef410b-2565-473d-9dab-8dc690ab8dbd"
      },
      "execution_count": 4,
      "outputs": [
        {
          "output_type": "stream",
          "name": "stdout",
          "text": [
            "The sum of all even numbers between 1 to 50 is :  650\n"
          ]
        }
      ]
    },
    {
      "cell_type": "code",
      "source": [
        "#Q14. Write a program to reverse a string using a while loop.\n",
        "string=input(\"Enter a string : \")\n",
        "i=len(string)-1\n",
        "while i>=0:\n",
        "  print(string[i],end=\"\")\n",
        "  i=i-1"
      ],
      "metadata": {
        "id": "XaqyW6qGqSG1",
        "colab": {
          "base_uri": "https://localhost:8080/"
        },
        "outputId": "c2d4cbc3-6213-4bfd-f7a1-a30f6ec64322"
      },
      "execution_count": 6,
      "outputs": [
        {
          "output_type": "stream",
          "name": "stdout",
          "text": [
            "Enter a string :  Python Program\n",
            "margorP nohtyP "
          ]
        }
      ]
    },
    {
      "cell_type": "code",
      "source": [
        "#Q 15. Write a python program to calculate the factorial of a number provided by the user using a while loop.\n",
        "num=int(input(\"Enter a number : \"))\n",
        "Sum=1\n",
        "i=1\n",
        "while i<=num:\n",
        "  Sum=Sum*i\n",
        "  i=i+1\n",
        "print(\"The factorial of \",num,\"is : \",Sum)"
      ],
      "metadata": {
        "id": "_wrSH-97qiAF",
        "colab": {
          "base_uri": "https://localhost:8080/"
        },
        "outputId": "764b79a1-d3c5-4e12-b183-4384a47863fb"
      },
      "execution_count": 11,
      "outputs": [
        {
          "output_type": "stream",
          "name": "stdout",
          "text": [
            "Enter a number : 5\n",
            "The factorial of  5 is :  120\n"
          ]
        }
      ]
    }
  ]
}